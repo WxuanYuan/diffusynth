{
 "cells": [
  {
   "cell_type": "markdown",
   "metadata": {
    "id": "5n2gjfWMxOrF"
   },
   "source": [
    "# Train VQ-GAN\n",
    "\n"
   ]
  },
  {
   "cell_type": "code",
   "execution_count": null,
   "metadata": {
    "colab": {
     "base_uri": "https://localhost:8080/"
    },
    "executionInfo": {
     "elapsed": 111532,
     "status": "ok",
     "timestamp": 1710085257445,
     "user": {
      "displayName": "weixuan yuan",
      "userId": "11055322300972413397"
     },
     "user_tz": -60
    },
    "id": "luTzwB8MxK9V",
    "outputId": "5cef61fe-25b5-400c-974d-f92bd88195b5"
   },
   "outputs": [
    {
     "name": "stdout",
     "output_type": "stream",
     "text": [
      "Drive already mounted at /content/drive; to attempt to forcibly remount, call drive.mount(\"/content/drive\", force_remount=True).\n",
      "/content/drive/MyDrive/TUM/Semester3/Similarity_learning_for_sounds/Code\n"
     ]
    }
   ],
   "source": [
    "!pip install -q matplotlib\n",
    "!pip install -q datasets\n",
    "!pip uninstall -q pytorch_lightning -y\n",
    "!pip install -q pytorch_lightning==1.7.0\n",
    "!pip uninstall -q torchmetrics -y\n",
    "!pip install -q torchmetrics==0.7.0\n",
    "!pip install -q torchinfo\n",
    "!pip install -q transformers\n",
    "\n",
    "from google.colab import drive\n",
    "drive.mount('/content/drive')\n",
    "%cd drive/MyDrive/path/to/root/\n",
    "\n",
    "import torch\n",
    "device = \"cuda\" if torch.cuda.is_available() else \"cpu\""
   ]
  },
  {
   "cell_type": "markdown",
   "metadata": {
    "id": "szsalU4c3tup"
   },
   "source": [
    "# Load Dataset"
   ]
  },
  {
   "cell_type": "code",
   "execution_count": null,
   "metadata": {},
   "outputs": [],
   "source": [
    "from data_generation.nsynth import get_nsynth_dataloader\n",
    "\n",
    "BATCH_SIZE = 4\n",
    "training_dataset_path = f'data/NSynth/nsynth-STFT-train-52.hdf5'\n",
    "training_dataloader = get_nsynth_dataloader(training_dataset_path, batch_size=BATCH_SIZE, shuffle=True,\n",
    "                                              get_latent_representation=False, with_meta_data=False, task=\"STFT\")"
   ]
  },
  {
   "cell_type": "markdown",
   "metadata": {
    "id": "Vm7-sk0i3v2h"
   },
   "source": [
    "# Training"
   ]
  },
  {
   "cell_type": "code",
   "execution_count": null,
   "metadata": {},
   "outputs": [],
   "source": [
    "from model.VQGAN import train_VQGAN\n",
    "\n",
    "model_name = \"your_model_name\"\n",
    "\n",
    "modelConfig = {\"in_channels\": 3, \"hidden_channels\": [80, 160], \"embedding_dim\": 4, \"out_channels\": 3, \"block_depth\": 2,\n",
    "               \"attn_pos\":  [80, 160], \"attn_with_skip\": True,\n",
    "            \"num_embeddings\": 8192, \"commitment_cost\": 0.25, \"decay\": 0.99,\n",
    "            \"norm_type\": \"groupnorm\", \"act_type\": \"swish\", \"num_groups\": 16}\n",
    "\n",
    "trainingConfig = {\"threshold\": 1e-3, \"ssim_weight\": 0.0, \"vq_weight\": 10.0, \"BATCH_SIZE\": BATCH_SIZE,\n",
    "            \"lr\": 1e-4, \"max_iter\": 10000, \"load_pretrain\": False, \"model_name\": model_name, \"device\": device,\n",
    "            \"d_lr\": 1e-4, \"adver_weight\": 0.1, \"save_steps\": 500, \"w1\": 1.0, \"w2\": 1.0}\n",
    "\n",
    "VAE = train_VQGAN(modelConfig, trainingConfig, training_dataloader)"
   ]
  },
  {
   "cell_type": "markdown",
   "metadata": {
    "id": "92TUZDzrbiSt"
   },
   "source": [
    "## Apply VQ-GAN\n",
    "\n",
    "Transform spectral representations into latent representations."
   ]
  },
  {
   "cell_type": "code",
   "execution_count": null,
   "metadata": {
    "executionInfo": {
     "elapsed": 3,
     "status": "aborted",
     "timestamp": 1710085354399,
     "user": {
      "displayName": "weixuan yuan",
      "userId": "11055322300972413397"
     },
     "user_tz": -60
    },
    "id": "yeaV4GoVENuQ"
   },
   "outputs": [],
   "source": [
    "from model.VQGAN_STFT import get_VQGAN_STFT\n",
    "from data_generation.nsynth import NSynthDataset\n",
    "\n",
    "BATCH_SIZE = 64\n",
    "\n",
    "# load VQVAE\n",
    "model_name = \"your_model_name\"\n",
    "\n",
    "modelConfig = {\"in_channels\": 3, \"hidden_channels\": [80, 160], \"embedding_dim\": 4, \"out_channels\": 3, \"block_depth\": 2,\n",
    "               \"attn_pos\":  [80, 160], \"attn_with_skip\": True,\n",
    "            \"num_embeddings\": 8192, \"commitment_cost\": 0.25, \"decay\": 0.99,\n",
    "            \"norm_type\": \"groupnorm\", \"act_type\": \"swish\", \"num_groups\": 16}\n",
    "VAE = get_VQGAN_STFT(modelConfig, load_pretrain=True, model_name=model_name)\n",
    "\n",
    "training_dataset_path = f'data/NSynth/nsynth-STFT-train-52.hdf5'\n",
    "validating_dataset_path = f'data/NSynth/nsynth-STFT-valid-52.hdf5'\n",
    "dataset = NSynthDataset(training_dataset_path, get_latent_representation=False, task=\"STFT\")\n",
    "dataset.create_latent_representation(VAE, quantize=False)"
   ]
  }
 ],
 "metadata": {
  "accelerator": "GPU",
  "colab": {
   "authorship_tag": "ABX9TyPnLZTDLqycDuz5WOcL+qJr",
   "machine_shape": "hm",
   "provenance": []
  },
  "kernelspec": {
   "display_name": "Python 3",
   "name": "python3"
  },
  "language_info": {
   "name": "python"
  }
 },
 "nbformat": 4,
 "nbformat_minor": 0
}
