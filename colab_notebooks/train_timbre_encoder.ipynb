{
 "cells": [
  {
   "cell_type": "markdown",
   "id": "cbba8b9b",
   "metadata": {},
   "source": [
    "# Train timbre encoder"
   ]
  },
  {
   "cell_type": "code",
   "execution_count": null,
   "id": "e7fe5283",
   "metadata": {},
   "outputs": [],
   "source": [
    "!pip install -q matplotlib\n",
    "!pip install -q datasets\n",
    "!pip uninstall -q pytorch_lightning -y\n",
    "!pip install -q pytorch_lightning==1.7.0\n",
    "\n",
    "!pip uninstall -q torchmetrics -y\n",
    "!pip install -q torchmetrics==0.7.0\n",
    "!pip install -q torchinfo\n",
    "!pip install -q transformers\n",
    "\n",
    "from google.colab import drive\n",
    "drive.mount('/content/drive')\n",
    "%cd drive/MyDrive/path/to/root/\n",
    "\n",
    "import torch\n",
    "device = \"cuda\" if torch.cuda.is_available() else \"cpu\""
   ]
  },
  {
   "cell_type": "markdown",
   "id": "eqAULiQzCGWE",
   "metadata": {
    "id": "eqAULiQzCGWE"
   },
   "source": [
    "# Load data"
   ]
  },
  {
   "cell_type": "code",
   "execution_count": null,
   "id": "q5V1QrNcT0r0",
   "metadata": {
    "id": "q5V1QrNcT0r0"
   },
   "outputs": [],
   "source": [
    "from data_generation.nsynth import get_nsynth_dataloader\n",
    "\n",
    "BATCH_SIZE = 64\n",
    "training_dataset_path = f'data/NSynth/nsynth-STFT-train-52.hdf5'\n",
    "validating_dataset_path = f'data/NSynth/nsynth-STFT-valid-52.hdf5'\n",
    "training_dataloader = get_nsynth_dataloader(training_dataset_path, batch_size=BATCH_SIZE, shuffle=True, get_latent_representation=True, with_meta_data=True, with_timbre_emb=False, task=\"STFT\")\n",
    "validating_dataloader = get_nsynth_dataloader(validating_dataset_path, batch_size=BATCH_SIZE, shuffle=True, get_quantized_latent_representation=True, with_meta_data=True, with_timbre_emb=False, task=\"STFT\")"
   ]
  },
  {
   "cell_type": "markdown",
   "id": "M9KL8CDXrnZ7",
   "metadata": {
    "id": "M9KL8CDXrnZ7"
   },
   "source": [
    "# Training\n",
    "\n"
   ]
  },
  {
   "cell_type": "code",
   "execution_count": null,
   "id": "265a7b8b",
   "metadata": {},
   "outputs": [],
   "source": [
    "from model.timbre_encoder_pretrain import train_timbre_encoder\n",
    "\n",
    "# Specify your model name\n",
    "timbre_encoder_name = \"your_model_name\"\n",
    "timbre_encoder_Config = {\"input_dim\": 512, \"feature_dim\": 512, \"hidden_dim\": 1024, \"num_instrument_classes\": 1006, \"num_instrument_family_classes\": 11, \"num_velocity_classes\": 128, \"num_qualities\": 10, \"num_layers\": 3}\n",
    "\n",
    "timbre_encoder =  train_timbre_encoder(device, timbre_encoder_name, timbre_encoder_Config, BATCH_SIZE, 1e-3, 30000, training_dataloader, load_pretrain=True)"
   ]
  }
 ],
 "metadata": {
  "accelerator": "GPU",
  "colab": {
   "machine_shape": "hm",
   "provenance": [
    {
     "file_id": "https://github.com/huggingface/notebooks/blob/main/examples/annotated_diffusion.ipynb",
     "timestamp": 1687960064371
    }
   ]
  },
  "jupytext": {
   "cell_metadata_filter": "-all",
   "main_language": "python",
   "notebook_metadata_filter": "-all"
  },
  "kernelspec": {
   "display_name": "Python 3",
   "name": "python3"
  },
  "language_info": {
   "codemirror_mode": {
    "name": "ipython",
    "version": 3
   },
   "file_extension": ".py",
   "mimetype": "text/x-python",
   "name": "python",
   "nbconvert_exporter": "python",
   "pygments_lexer": "ipython3",
   "version": "3.10.8"
  }
 },
 "nbformat": 4,
 "nbformat_minor": 5
}
